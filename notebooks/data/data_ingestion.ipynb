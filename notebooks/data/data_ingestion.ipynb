{
 "cells": [
  {
   "cell_type": "code",
   "execution_count": 12,
   "id": "5d5b65c9",
   "metadata": {},
   "outputs": [],
   "source": [
    "import os\n",
    "from dotenv import load_dotenv\n",
    "from newsapi import NewsApiClient\n",
    "import requests\n",
    "from datetime import datetime, timedelta"
   ]
  },
  {
   "cell_type": "code",
   "execution_count": 13,
   "id": "33a3cf78",
   "metadata": {},
   "outputs": [],
   "source": [
    "load_dotenv()\n",
    "NEWS_API_KEY = os.getenv('NEWS_API_KEY')"
   ]
  },
  {
   "cell_type": "code",
   "execution_count": 25,
   "id": "6e1e6f65",
   "metadata": {},
   "outputs": [],
   "source": [
    "def fetch_stock_news(ticker, hours_back=1, page=1, page_size=50):\n",
    "    now = datetime.now()\n",
    "    params = {\n",
    "        \"q\": f\"{ticker}\",\n",
    "        \"from\": (now - timedelta(hours=hours_back)).isoformat(),\n",
    "        \"to\": now.isoformat(),\n",
    "        \"language\": \"en\",\n",
    "        \"sortBy\": \"relevancy\",\n",
    "        \"page\": page,\n",
    "        \"pageSize\": page_size,\n",
    "        \"apiKey\": NEWS_API_KEY,\n",
    "        # \"sources\": \"financial-times,bloomberg,the-wall-street-journal\",\n",
    "    }\n",
    "    resp = requests.get(\"https://newsapi.org/v2/everything\", params=params)\n",
    "    resp.raise_for_status()\n",
    "    print(resp.json())\n",
    "    return resp.json()[\"articles\"]"
   ]
  },
  {
   "cell_type": "code",
   "execution_count": 26,
   "id": "7059e1ae",
   "metadata": {},
   "outputs": [
    {
     "name": "stdout",
     "output_type": "stream",
     "text": [
      "{'status': 'ok', 'totalResults': 5, 'articles': [{'source': {'id': None, 'name': 'Quartz India'}, 'author': 'Kevin Williams', 'title': 'Tesla rival Xiaomi shows off its new SUV in Beijing', 'description': 'Elon Musk’s beleaguered Tesla (TSLA) is fending off yet another competitive EV entry in China.Read more...', 'url': 'https://qz.com/telsa-xiaomi-ev-suv-yu7-1851782952', 'urlToImage': 'https://i.kinja-img.com/image/upload/c_fill,h_675,pg_1,q_80,w_1200/8c7c3f41dbe47e8693d07378a537891d.jpg', 'publishedAt': '2025-05-29T17:31:15Z', 'content': 'In This Story\\r\\nElon Musks beleaguered Tesla (TSLA) is fending off yet another competitive EV entry in China.\\r\\n Chinese electronics giant Xiaomi launched the YU7 SUV at 13 of its Beijing showrooms thi… [+1744 chars]'}, {'source': {'id': None, 'name': 'Yahoo Entertainment'}, 'author': 'Ali Ahmed', 'title': 'TD Cowen Maintains Buy Rating on Tesla (TSLA)', 'description': 'On Tuesday, May 27, TD Cowen analysts maintained a “Buy” rating with a price target of $330 for Tesla, Inc. (NASDAQ:TSLA). The analysts highlighted the...', 'url': 'https://finance.yahoo.com/news/td-cowen-maintains-buy-rating-172221555.html', 'urlToImage': 'https://s.yimg.com/ny/api/res/1.2/yW5JtOY4YQMatL7TyPD6iw--/YXBwaWQ9aGlnaGxhbmRlcjt3PTEyMDA7aD0xMjAw/https://media.zenfs.com/en/insidermonkey.com/d60200c9c3fe46563f2c514bb66853e7', 'publishedAt': '2025-05-29T17:22:21Z', 'content': 'On Tuesday, May 27, TD Cowen analysts maintained a Buy rating with a price target of $330 for Tesla, Inc. (NASDAQ:TSLA). The analysts highlighted the companys autonomous vehicle (AV) features, which … [+1276 chars]'}, {'source': {'id': None, 'name': 'Biztoc.com'}, 'author': 'finance.yahoo.com', 'title': 'TD Cowen Maintains Buy Rating on Tesla (TSLA)', 'description': 'In This Article:\\nOn Tuesday, May 27, TD Cowen analysts maintained a “Buy” rating with a price target of $330 for Tesla, Inc. (NASDAQ:TSLA). The analysts highlighted the company’s autonomous vehicle (AV) features, which coincide with TD Cowen’s thesis regardin…', 'url': 'https://biztoc.com/x/54c357edbe3ddf04', 'urlToImage': 'https://biztoc.com/cdn/54c357edbe3ddf04_s.webp', 'publishedAt': '2025-05-29T17:31:15Z', 'content': 'In This Article:On Tuesday, May 27, TD Cowen analysts maintained a Buy rating with a price target of $330 for Tesla, Inc. (NASDAQ:TSLA). The analysts highlighted the companys autonomous vehicle (AV) … [+140 chars]'}, {'source': {'id': None, 'name': 'Biztoc.com'}, 'author': 'teslarati.com', 'title': 'Tesla analyst’s firm has sold its entire TSLA position: Here’s why', 'description': 'Tesla analyst Gary Black of The Future Fund revealed today that his firm has sold its entire $TSLA holding, marking the first time since 2021 that it has not had a position in the company’s stock.\\nBlack has been a skeptic of the company and relatively pessimi…', 'url': 'https://biztoc.com/x/a6a6563384a07189', 'urlToImage': 'https://biztoc.com/cdn/a6a6563384a07189_s.webp', 'publishedAt': '2025-05-29T15:38:56Z', 'content': 'Tesla analyst Gary Black of The Future Fund revealed today that his firm has sold its entire $TSLA holding, marking the first time since 2021 that it has not had a position in the companys stock.Blac… [+150 chars]'}, {'source': {'id': None, 'name': 'Biztoc.com'}, 'author': 'investopedia.com', 'title': '5 Things to Know Before the Stock Market Opens', 'description': 'U.S. stock futures are pointing sharply higher after a federal court struck down President Donald Trump\\'s \"reciprocal\" tariffs; Nvidia (NVDA) shares are jumping in premarket trading after the chipmaker posted record revenue that tops analysts\\' estimates; Tesl…', 'url': 'https://biztoc.com/x/556475519d87d05d', 'urlToImage': 'https://biztoc.com/cdn/556475519d87d05d_s.webp', 'publishedAt': '2025-05-29T19:00:05Z', 'content': 'U.S. stock futures are pointing sharply higher after a federal court struck down President Donald Trump\\'s \"reciprocal\" tariffs; Nvidia (NVDA) shares are jumping in premarket trading after the chipmak… [+156 chars]'}]}\n",
      "Fetched 5 APPL-related articles in last 24h.\n",
      "Title: Tesla rival Xiaomi shows off its new SUV in Beijing\n",
      "Source: Quartz India\n",
      "Published At: 2025-05-29T17:31:15Z\n",
      "URL: https://qz.com/telsa-xiaomi-ev-suv-yu7-1851782952\n",
      "\n",
      "Title: TD Cowen Maintains Buy Rating on Tesla (TSLA)\n",
      "Source: Yahoo Entertainment\n",
      "Published At: 2025-05-29T17:22:21Z\n",
      "URL: https://finance.yahoo.com/news/td-cowen-maintains-buy-rating-172221555.html\n",
      "\n",
      "Title: TD Cowen Maintains Buy Rating on Tesla (TSLA)\n",
      "Source: Biztoc.com\n",
      "Published At: 2025-05-29T17:31:15Z\n",
      "URL: https://biztoc.com/x/54c357edbe3ddf04\n",
      "\n",
      "Title: Tesla analyst’s firm has sold its entire TSLA position: Here’s why\n",
      "Source: Biztoc.com\n",
      "Published At: 2025-05-29T15:38:56Z\n",
      "URL: https://biztoc.com/x/a6a6563384a07189\n",
      "\n",
      "Title: 5 Things to Know Before the Stock Market Opens\n",
      "Source: Biztoc.com\n",
      "Published At: 2025-05-29T19:00:05Z\n",
      "URL: https://biztoc.com/x/556475519d87d05d\n",
      "\n"
     ]
    }
   ],
   "source": [
    "# COMPANY_NAME_MAP = {\n",
    "#     \"AAPL\": \"Apple Inc.\",\n",
    "#     \"GOOGL\": \"Alphabet Inc.\",\n",
    "#     \"AMZN\": \"Amazon.com Inc.\",\n",
    "#     \"MSFT\": \"Microsoft Corporation\",\n",
    "#     \"TSLA\": \"Tesla Inc.\",\n",
    "# }\n",
    "hours_back = 24  # Fetch articles from the last 24 hours\n",
    "articles = fetch_stock_news(\"TSLA\", hours_back, page=1, page_size=5)\n",
    "\n",
    "print(f\"Fetched {len(articles)} APPL-related articles in last {hours_back}h.\")\n",
    "\n",
    "for article in articles:\n",
    "    print(f\"Title: {article['title']}\")\n",
    "    print(f\"Source: {article['source']['name']}\")\n",
    "    print(f\"Published At: {article['publishedAt']}\")\n",
    "    print(f\"URL: {article['url']}\\n\")"
   ]
  },
  {
   "cell_type": "code",
   "execution_count": null,
   "id": "29aba6d3",
   "metadata": {},
   "outputs": [],
   "source": []
  }
 ],
 "metadata": {
  "kernelspec": {
   "display_name": "sentiments-stocks",
   "language": "python",
   "name": "python3"
  },
  "language_info": {
   "codemirror_mode": {
    "name": "ipython",
    "version": 3
   },
   "file_extension": ".py",
   "mimetype": "text/x-python",
   "name": "python",
   "nbconvert_exporter": "python",
   "pygments_lexer": "ipython3",
   "version": "3.9.18"
  }
 },
 "nbformat": 4,
 "nbformat_minor": 5
}
