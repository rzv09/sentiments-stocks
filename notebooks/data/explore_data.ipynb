{
 "cells": [
  {
   "cell_type": "code",
   "execution_count": 22,
   "id": "4f35c826",
   "metadata": {},
   "outputs": [],
   "source": [
    "import numpy\n",
    "import pandas as pd\n",
    "from sklearn.model_selection import train_test_split\n",
    "from sklearn.feature_extraction.text import TfidfVectorizer\n",
    "from sklearn.linear_model import LogisticRegression\n",
    "from sklearn.pipeline import Pipeline"
   ]
  },
  {
   "cell_type": "code",
   "execution_count": 23,
   "id": "73cc8e10",
   "metadata": {},
   "outputs": [],
   "source": [
    "df = pd.read_csv('../../data/raw/Sentences_AllAgree.txt', header=None, names=[\"text\", \"label\"], encoding=\"latin1\", sep=\"@\")"
   ]
  },
  {
   "cell_type": "code",
   "execution_count": 24,
   "id": "27a9e05f",
   "metadata": {},
   "outputs": [
    {
     "data": {
      "text/html": [
       "<div>\n",
       "<style scoped>\n",
       "    .dataframe tbody tr th:only-of-type {\n",
       "        vertical-align: middle;\n",
       "    }\n",
       "\n",
       "    .dataframe tbody tr th {\n",
       "        vertical-align: top;\n",
       "    }\n",
       "\n",
       "    .dataframe thead th {\n",
       "        text-align: right;\n",
       "    }\n",
       "</style>\n",
       "<table border=\"1\" class=\"dataframe\">\n",
       "  <thead>\n",
       "    <tr style=\"text-align: right;\">\n",
       "      <th></th>\n",
       "      <th>text</th>\n",
       "      <th>label</th>\n",
       "    </tr>\n",
       "  </thead>\n",
       "  <tbody>\n",
       "    <tr>\n",
       "      <th>count</th>\n",
       "      <td>2264</td>\n",
       "      <td>2264</td>\n",
       "    </tr>\n",
       "    <tr>\n",
       "      <th>unique</th>\n",
       "      <td>2259</td>\n",
       "      <td>3</td>\n",
       "    </tr>\n",
       "    <tr>\n",
       "      <th>top</th>\n",
       "      <td>SSH Communications Security Corporation is hea...</td>\n",
       "      <td>neutral</td>\n",
       "    </tr>\n",
       "    <tr>\n",
       "      <th>freq</th>\n",
       "      <td>2</td>\n",
       "      <td>1391</td>\n",
       "    </tr>\n",
       "  </tbody>\n",
       "</table>\n",
       "</div>"
      ],
      "text/plain": [
       "                                                     text    label\n",
       "count                                                2264     2264\n",
       "unique                                               2259        3\n",
       "top     SSH Communications Security Corporation is hea...  neutral\n",
       "freq                                                    2     1391"
      ]
     },
     "execution_count": 24,
     "metadata": {},
     "output_type": "execute_result"
    }
   ],
   "source": [
    "df.describe()"
   ]
  },
  {
   "cell_type": "code",
   "execution_count": 25,
   "id": "b7dff714",
   "metadata": {},
   "outputs": [],
   "source": [
    "df.dropna()\n",
    "df[\"text\"] = df[\"text\"].str.strip()\n",
    "df[\"label\"] = df[\"label\"].str.strip()"
   ]
  },
  {
   "cell_type": "code",
   "execution_count": 26,
   "id": "600fcba2",
   "metadata": {},
   "outputs": [
    {
     "data": {
      "text/html": [
       "<div>\n",
       "<style scoped>\n",
       "    .dataframe tbody tr th:only-of-type {\n",
       "        vertical-align: middle;\n",
       "    }\n",
       "\n",
       "    .dataframe tbody tr th {\n",
       "        vertical-align: top;\n",
       "    }\n",
       "\n",
       "    .dataframe thead th {\n",
       "        text-align: right;\n",
       "    }\n",
       "</style>\n",
       "<table border=\"1\" class=\"dataframe\">\n",
       "  <thead>\n",
       "    <tr style=\"text-align: right;\">\n",
       "      <th></th>\n",
       "      <th>text</th>\n",
       "      <th>label</th>\n",
       "    </tr>\n",
       "  </thead>\n",
       "  <tbody>\n",
       "    <tr>\n",
       "      <th>count</th>\n",
       "      <td>2264</td>\n",
       "      <td>2264</td>\n",
       "    </tr>\n",
       "    <tr>\n",
       "      <th>unique</th>\n",
       "      <td>2259</td>\n",
       "      <td>3</td>\n",
       "    </tr>\n",
       "    <tr>\n",
       "      <th>top</th>\n",
       "      <td>SSH Communications Security Corporation is hea...</td>\n",
       "      <td>neutral</td>\n",
       "    </tr>\n",
       "    <tr>\n",
       "      <th>freq</th>\n",
       "      <td>2</td>\n",
       "      <td>1391</td>\n",
       "    </tr>\n",
       "  </tbody>\n",
       "</table>\n",
       "</div>"
      ],
      "text/plain": [
       "                                                     text    label\n",
       "count                                                2264     2264\n",
       "unique                                               2259        3\n",
       "top     SSH Communications Security Corporation is hea...  neutral\n",
       "freq                                                    2     1391"
      ]
     },
     "execution_count": 26,
     "metadata": {},
     "output_type": "execute_result"
    }
   ],
   "source": [
    "df.describe()"
   ]
  },
  {
   "cell_type": "code",
   "execution_count": 27,
   "id": "8e9f299a",
   "metadata": {},
   "outputs": [],
   "source": [
    "df = df[df[\"label\"] != \"neutral\"]"
   ]
  },
  {
   "cell_type": "code",
   "execution_count": 28,
   "id": "3ccaaecf",
   "metadata": {},
   "outputs": [
    {
     "data": {
      "text/html": [
       "<div>\n",
       "<style scoped>\n",
       "    .dataframe tbody tr th:only-of-type {\n",
       "        vertical-align: middle;\n",
       "    }\n",
       "\n",
       "    .dataframe tbody tr th {\n",
       "        vertical-align: top;\n",
       "    }\n",
       "\n",
       "    .dataframe thead th {\n",
       "        text-align: right;\n",
       "    }\n",
       "</style>\n",
       "<table border=\"1\" class=\"dataframe\">\n",
       "  <thead>\n",
       "    <tr style=\"text-align: right;\">\n",
       "      <th></th>\n",
       "      <th>text</th>\n",
       "      <th>label</th>\n",
       "    </tr>\n",
       "  </thead>\n",
       "  <tbody>\n",
       "    <tr>\n",
       "      <th>count</th>\n",
       "      <td>873</td>\n",
       "      <td>873</td>\n",
       "    </tr>\n",
       "    <tr>\n",
       "      <th>unique</th>\n",
       "      <td>873</td>\n",
       "      <td>2</td>\n",
       "    </tr>\n",
       "    <tr>\n",
       "      <th>top</th>\n",
       "      <td>For the last quarter of 2010 , Componenta 's n...</td>\n",
       "      <td>positive</td>\n",
       "    </tr>\n",
       "    <tr>\n",
       "      <th>freq</th>\n",
       "      <td>1</td>\n",
       "      <td>570</td>\n",
       "    </tr>\n",
       "  </tbody>\n",
       "</table>\n",
       "</div>"
      ],
      "text/plain": [
       "                                                     text     label\n",
       "count                                                 873       873\n",
       "unique                                                873         2\n",
       "top     For the last quarter of 2010 , Componenta 's n...  positive\n",
       "freq                                                    1       570"
      ]
     },
     "execution_count": 28,
     "metadata": {},
     "output_type": "execute_result"
    }
   ],
   "source": [
    "df.describe()"
   ]
  },
  {
   "cell_type": "code",
   "execution_count": 29,
   "id": "d97682dd",
   "metadata": {},
   "outputs": [],
   "source": [
    "label_map = {\n",
    "    \"positive\": 1,\n",
    "    \"negative\": -1\n",
    "}\n",
    "\n",
    "df[\"label\"] = df[\"label\"].map(label_map)"
   ]
  },
  {
   "cell_type": "code",
   "execution_count": 30,
   "id": "af8fdc01",
   "metadata": {},
   "outputs": [],
   "source": [
    "df = df.sample(frac=1, random_state=42).reset_index(drop=True)\n"
   ]
  },
  {
   "cell_type": "code",
   "execution_count": 32,
   "id": "03fb7888",
   "metadata": {},
   "outputs": [
    {
     "data": {
      "text/html": [
       "<div>\n",
       "<style scoped>\n",
       "    .dataframe tbody tr th:only-of-type {\n",
       "        vertical-align: middle;\n",
       "    }\n",
       "\n",
       "    .dataframe tbody tr th {\n",
       "        vertical-align: top;\n",
       "    }\n",
       "\n",
       "    .dataframe thead th {\n",
       "        text-align: right;\n",
       "    }\n",
       "</style>\n",
       "<table border=\"1\" class=\"dataframe\">\n",
       "  <thead>\n",
       "    <tr style=\"text-align: right;\">\n",
       "      <th></th>\n",
       "      <th>text</th>\n",
       "      <th>label</th>\n",
       "    </tr>\n",
       "  </thead>\n",
       "  <tbody>\n",
       "    <tr>\n",
       "      <th>0</th>\n",
       "      <td>Finnish electronics contract manufacturer Scan...</td>\n",
       "      <td>-1</td>\n",
       "    </tr>\n",
       "    <tr>\n",
       "      <th>1</th>\n",
       "      <td>ADPnews - Jul 17 , 2009 - Finland-based steel ...</td>\n",
       "      <td>-1</td>\n",
       "    </tr>\n",
       "    <tr>\n",
       "      <th>2</th>\n",
       "      <td>According to Nordic financial group Nordea 's ...</td>\n",
       "      <td>1</td>\n",
       "    </tr>\n",
       "    <tr>\n",
       "      <th>3</th>\n",
       "      <td>Cargo traffic fell 1 % year-on-year to 8,561 t...</td>\n",
       "      <td>-1</td>\n",
       "    </tr>\n",
       "    <tr>\n",
       "      <th>4</th>\n",
       "      <td>However , sales volumes in the food industry a...</td>\n",
       "      <td>1</td>\n",
       "    </tr>\n",
       "  </tbody>\n",
       "</table>\n",
       "</div>"
      ],
      "text/plain": [
       "                                                text  label\n",
       "0  Finnish electronics contract manufacturer Scan...     -1\n",
       "1  ADPnews - Jul 17 , 2009 - Finland-based steel ...     -1\n",
       "2  According to Nordic financial group Nordea 's ...      1\n",
       "3  Cargo traffic fell 1 % year-on-year to 8,561 t...     -1\n",
       "4  However , sales volumes in the food industry a...      1"
      ]
     },
     "execution_count": 32,
     "metadata": {},
     "output_type": "execute_result"
    }
   ],
   "source": [
    "df.head()"
   ]
  },
  {
   "cell_type": "code",
   "execution_count": 41,
   "id": "a8bc61f0",
   "metadata": {},
   "outputs": [],
   "source": [
    "pipeline = Pipeline([\n",
    "    (\"tfidf\", TfidfVectorizer(\n",
    "        ngram_range=(1,2),\n",
    "        lowercase=True,\n",
    "        min_df=2,\n",
    "        max_df=0.95,\n",
    "        strip_accents='unicode',\n",
    "        stop_words='english'\n",
    "    )),\n",
    "    (\"clf\", LogisticRegression(max_iter=1000))\n",
    "])\n",
    "X = df[\"text\"]\n",
    "y = df[\"label\"]\n",
    "X_train, X_test, y_train, y_test = train_test_split(X, y, stratify=y, test_size=0.2, random_state=42)\n",
    "pipeline.fit(X_train, y_train)\n",
    "\n",
    "pred = pipeline.predict(X_test)\n",
    "proba = pipeline.predict_proba(X_test)"
   ]
  },
  {
   "cell_type": "code",
   "execution_count": 44,
   "id": "9b317ad8",
   "metadata": {},
   "outputs": [
    {
     "name": "stdout",
     "output_type": "stream",
     "text": [
      "Accuracy: 0.7828571428571428\n"
     ]
    }
   ],
   "source": [
    "from sklearn.metrics import accuracy_score\n",
    "print(\"Accuracy:\", accuracy_score(y_test, pred))"
   ]
  },
  {
   "cell_type": "code",
   "execution_count": 45,
   "id": "be37f67b",
   "metadata": {},
   "outputs": [
    {
     "name": "stdout",
     "output_type": "stream",
     "text": [
      "Precision: 0.7638888888888888\n",
      "Recall: 0.9649122807017544\n",
      "F1: 0.8527131782945736\n"
     ]
    }
   ],
   "source": [
    "from sklearn.metrics import precision_score, recall_score, f1_score\n",
    "print(\"Precision:\", precision_score(y_test, pred))\n",
    "print(\"Recall:\", recall_score(y_test, pred))\n",
    "print(\"F1:\", f1_score(y_test, pred))\n"
   ]
  },
  {
   "cell_type": "code",
   "execution_count": 46,
   "id": "dbd0b8e4",
   "metadata": {},
   "outputs": [
    {
     "name": "stdout",
     "output_type": "stream",
     "text": [
      "              precision    recall  f1-score   support\n",
      "\n",
      "          -1       0.87      0.44      0.59        61\n",
      "           1       0.76      0.96      0.85       114\n",
      "\n",
      "    accuracy                           0.78       175\n",
      "   macro avg       0.82      0.70      0.72       175\n",
      "weighted avg       0.80      0.78      0.76       175\n",
      "\n"
     ]
    }
   ],
   "source": [
    "from sklearn.metrics import classification_report\n",
    "print(classification_report(y_test, pred))\n"
   ]
  },
  {
   "cell_type": "code",
   "execution_count": 48,
   "id": "e2be34e2",
   "metadata": {},
   "outputs": [
    {
     "data": {
      "image/png": "[encoded data removed]",
      "text/plain": [
       "<Figure size 640x480 with 2 Axes>"
      ]
     },
     "metadata": {},
     "output_type": "display_data"
    }
   ],
   "source": [
    "from sklearn.metrics import confusion_matrix\n",
    "import seaborn as sns\n",
    "import matplotlib.pyplot as plt\n",
    "\n",
    "cm = confusion_matrix(y_test, pred)\n",
    "sns.heatmap(cm, annot=True, fmt=\"d\", cmap=\"Blues\",\n",
    "            xticklabels=[\"Negative\", \"Positive\"],\n",
    "            yticklabels=[\"Negative\", \"Positive\"])\n",
    "plt.xlabel(\"Predicted\")\n",
    "plt.ylabel(\"True\")\n",
    "plt.show()\n"
   ]
  },
  {
   "cell_type": "code",
   "execution_count": 49,
   "id": "840c64eb",
   "metadata": {},
   "outputs": [
    {
     "name": "stdout",
     "output_type": "stream",
     "text": [
      "1 0.657797005536902\n"
     ]
    }
   ],
   "source": [
    "text = \"Apple shares jump after strong earnings beat.\"\n",
    "pred = pipeline.predict([text])[0]              # -> 0/1 label\n",
    "proba = pipeline.predict_proba([text])[0][1]    # -> P(positive) if 1 is positive\n",
    "print(pred, proba)\n"
   ]
  },
  {
   "cell_type": "code",
   "execution_count": 50,
   "id": "047e48a3",
   "metadata": {},
   "outputs": [],
   "source": [
    "def trace_pipeline(pipeline, text, top_k=10):\n",
    "    tfidf = pipeline.named_steps[\"tfidf\"]\n",
    "    clf   = pipeline.named_steps[\"clf\"]\n",
    "\n",
    "    an = tfidf.build_analyzer()\n",
    "    print(\"TOKENS:\", an(text)[:50])\n",
    "\n",
    "    X = tfidf.transform([text])\n",
    "    feature_names = tfidf.get_feature_names_out()\n",
    "    w = clf.coef_[0]; b = clf.intercept_[0]\n",
    "\n",
    "    # tf-idf values\n",
    "    row = X.tocoo()\n",
    "    print(\"\\nNON-ZERO TF-IDF FEATURES:\")\n",
    "    for _, j, v in zip(row.row, row.col, row.data):\n",
    "        print(f\"{feature_names[j]:<30} tfidf={v:.4f}\")\n",
    "\n",
    "    # score & probability\n",
    "    import numpy as np\n",
    "    z = X.multiply(w).sum() + b\n",
    "    p = 1 / (1 + np.exp(-z))\n",
    "    print(f\"\\nLOGREG: z={z:.4f}, p(positive)={p:.4f}\")\n",
    "\n",
    "    # contributions\n",
    "    contrib = X.multiply(w).toarray()[0]\n",
    "    nz = np.nonzero(contrib)[0]\n",
    "    top_idx = nz[np.argsort(np.abs(contrib[nz]))[::-1][:top_k]]\n",
    "    print(\"\\nTOP CONTRIBUTIONS (signed):\")\n",
    "    for j in top_idx:\n",
    "        sign = \"+\" if contrib[j] >= 0 else \"\"\n",
    "        print(f\"{feature_names[j]:<30} {sign}{contrib[j]:.4f}\")\n"
   ]
  },
  {
   "cell_type": "code",
   "execution_count": 54,
   "id": "08337644",
   "metadata": {},
   "outputs": [
    {
     "name": "stdout",
     "output_type": "stream",
     "text": [
      "TOKENS: ['iren', 'iren', 'surges', 'transition', 'ai', 'service', 'iren iren', 'iren surges', 'surges transition', 'transition ai', 'ai service']\n",
      "\n",
      "NON-ZERO TF-IDF FEATURES:\n",
      "service                        tfidf=1.0000\n",
      "\n",
      "LOGREG: z=0.9714, p(positive)=0.7254\n",
      "\n",
      "TOP CONTRIBUTIONS (signed):\n",
      "service                        +0.1725\n"
     ]
    }
   ],
   "source": [
    "trace_pipeline(pipeline, \"IREN (IREN) Surges on Transition to AI Service\")\n"
   ]
  },
  {
   "cell_type": "code",
   "execution_count": null,
   "id": "9fd2796d",
   "metadata": {},
   "outputs": [
    {
     "name": "stdout",
     "output_type": "stream",
     "text": [
      "<Compressed Sparse Row sparse matrix of dtype 'float64'\n",
      "\twith 21 stored elements and shape (4, 9)>\n",
      "  Coords\tValues\n",
      "  (0, 8)\t0.38408524091481494\n",
      "  (0, 3)\t0.38408524091481494\n",
      "  (0, 6)\t0.38408524091481494\n",
      "  (0, 2)\t0.580285823684436\n",
      "  (0, 1)\t0.4697913855799205\n",
      "  (1, 8)\t0.281088674033753\n",
      "  (1, 3)\t0.281088674033753\n",
      "  (1, 6)\t0.281088674033753\n",
      "  (1, 1)\t0.6876235979836938\n",
      "  (1, 5)\t0.5386476208856763\n",
      "  (2, 8)\t0.267103787642168\n",
      "  (2, 3)\t0.267103787642168\n",
      "  (2, 6)\t0.267103787642168\n",
      "  (2, 0)\t0.511848512707169\n",
      "  (2, 7)\t0.511848512707169\n",
      "  (2, 4)\t0.511848512707169\n",
      "  (3, 8)\t0.38408524091481494\n",
      "  (3, 3)\t0.38408524091481494\n",
      "  (3, 6)\t0.38408524091481494\n",
      "  (3, 2)\t0.580285823684436\n",
      "  (3, 1)\t0.4697913855799205\n"
     ]
    }
   ],
   "source": [
    "corpus = [\n",
    "\n",
    "    'This is the first document.',\n",
    "\n",
    "    'This document is the second document.',\n",
    "\n",
    "    'And this is the third one.',\n",
    "\n",
    "    'Is this the first document?',\n",
    "\n",
    "]\n",
    "vectorizer = TfidfVectorizer()\n",
    "X = vectorizer.fit_transform(corpus)"
   ]
  },
  {
   "cell_type": "code",
   "execution_count": null,
   "id": "dbbc4e3c",
   "metadata": {},
   "outputs": [],
   "source": []
  }
 ],
 "metadata": {
  "kernelspec": {
   "display_name": "sentiments-stocks",
   "language": "python",
   "name": "python3"
  },
  "language_info": {
   "codemirror_mode": {
    "name": "ipython",
    "version": 3
   },
   "file_extension": ".py",
   "mimetype": "text/x-python",
   "name": "python",
   "nbconvert_exporter": "python",
   "pygments_lexer": "ipython3",
   "version": "3.11.13"
  }
 },
 "nbformat": 4,
 "nbformat_minor": 5
}
