{
 "cells": [
  {
   "cell_type": "code",
   "execution_count": 24,
   "id": "4f35c826",
   "metadata": {},
   "outputs": [],
   "source": [
    "import numpy\n",
    "import pandas as pd\n",
    "from sklearn.model_selection import train_test_split\n",
    "from sklearn.feature_extraction.text import TfidfVectorizer\n",
    "from sklearn.linear_model import LogisticRegression\n",
    "from sklearn.pipeline import Pipeline"
   ]
  },
  {
   "cell_type": "code",
   "execution_count": 25,
   "id": "73cc8e10",
   "metadata": {},
   "outputs": [],
   "source": [
    "df = pd.read_csv('../../data/raw/Sentences_AllAgree.txt', header=None, names=[\"text\", \"label\"], encoding=\"latin1\", sep=\"@\")"
   ]
  },
  {
   "cell_type": "code",
   "execution_count": 26,
   "id": "27a9e05f",
   "metadata": {},
   "outputs": [
    {
     "data": {
      "text/html": [
       "<div>\n",
       "<style scoped>\n",
       "    .dataframe tbody tr th:only-of-type {\n",
       "        vertical-align: middle;\n",
       "    }\n",
       "\n",
       "    .dataframe tbody tr th {\n",
       "        vertical-align: top;\n",
       "    }\n",
       "\n",
       "    .dataframe thead th {\n",
       "        text-align: right;\n",
       "    }\n",
       "</style>\n",
       "<table border=\"1\" class=\"dataframe\">\n",
       "  <thead>\n",
       "    <tr style=\"text-align: right;\">\n",
       "      <th></th>\n",
       "      <th>text</th>\n",
       "      <th>label</th>\n",
       "    </tr>\n",
       "  </thead>\n",
       "  <tbody>\n",
       "    <tr>\n",
       "      <th>count</th>\n",
       "      <td>2264</td>\n",
       "      <td>2264</td>\n",
       "    </tr>\n",
       "    <tr>\n",
       "      <th>unique</th>\n",
       "      <td>2259</td>\n",
       "      <td>3</td>\n",
       "    </tr>\n",
       "    <tr>\n",
       "      <th>top</th>\n",
       "      <td>SSH Communications Security Corporation is hea...</td>\n",
       "      <td>neutral</td>\n",
       "    </tr>\n",
       "    <tr>\n",
       "      <th>freq</th>\n",
       "      <td>2</td>\n",
       "      <td>1391</td>\n",
       "    </tr>\n",
       "  </tbody>\n",
       "</table>\n",
       "</div>"
      ],
      "text/plain": [
       "                                                     text    label\n",
       "count                                                2264     2264\n",
       "unique                                               2259        3\n",
       "top     SSH Communications Security Corporation is hea...  neutral\n",
       "freq                                                    2     1391"
      ]
     },
     "execution_count": 26,
     "metadata": {},
     "output_type": "execute_result"
    }
   ],
   "source": [
    "df.describe()"
   ]
  },
  {
   "cell_type": "code",
   "execution_count": 27,
   "id": "b7dff714",
   "metadata": {},
   "outputs": [],
   "source": [
    "df.dropna()\n",
    "df[\"text\"] = df[\"text\"].str.strip()\n",
    "df[\"label\"] = df[\"label\"].str.strip()"
   ]
  },
  {
   "cell_type": "code",
   "execution_count": 28,
   "id": "600fcba2",
   "metadata": {},
   "outputs": [
    {
     "data": {
      "text/html": [
       "<div>\n",
       "<style scoped>\n",
       "    .dataframe tbody tr th:only-of-type {\n",
       "        vertical-align: middle;\n",
       "    }\n",
       "\n",
       "    .dataframe tbody tr th {\n",
       "        vertical-align: top;\n",
       "    }\n",
       "\n",
       "    .dataframe thead th {\n",
       "        text-align: right;\n",
       "    }\n",
       "</style>\n",
       "<table border=\"1\" class=\"dataframe\">\n",
       "  <thead>\n",
       "    <tr style=\"text-align: right;\">\n",
       "      <th></th>\n",
       "      <th>text</th>\n",
       "      <th>label</th>\n",
       "    </tr>\n",
       "  </thead>\n",
       "  <tbody>\n",
       "    <tr>\n",
       "      <th>count</th>\n",
       "      <td>2264</td>\n",
       "      <td>2264</td>\n",
       "    </tr>\n",
       "    <tr>\n",
       "      <th>unique</th>\n",
       "      <td>2259</td>\n",
       "      <td>3</td>\n",
       "    </tr>\n",
       "    <tr>\n",
       "      <th>top</th>\n",
       "      <td>SSH Communications Security Corporation is hea...</td>\n",
       "      <td>neutral</td>\n",
       "    </tr>\n",
       "    <tr>\n",
       "      <th>freq</th>\n",
       "      <td>2</td>\n",
       "      <td>1391</td>\n",
       "    </tr>\n",
       "  </tbody>\n",
       "</table>\n",
       "</div>"
      ],
      "text/plain": [
       "                                                     text    label\n",
       "count                                                2264     2264\n",
       "unique                                               2259        3\n",
       "top     SSH Communications Security Corporation is hea...  neutral\n",
       "freq                                                    2     1391"
      ]
     },
     "execution_count": 28,
     "metadata": {},
     "output_type": "execute_result"
    }
   ],
   "source": [
    "df.describe()"
   ]
  },
  {
   "cell_type": "code",
   "execution_count": 29,
   "id": "8e9f299a",
   "metadata": {},
   "outputs": [],
   "source": [
    "df = df[df[\"label\"] != \"neutral\"]"
   ]
  },
  {
   "cell_type": "code",
   "execution_count": 30,
   "id": "3ccaaecf",
   "metadata": {},
   "outputs": [
    {
     "data": {
      "text/html": [
       "<div>\n",
       "<style scoped>\n",
       "    .dataframe tbody tr th:only-of-type {\n",
       "        vertical-align: middle;\n",
       "    }\n",
       "\n",
       "    .dataframe tbody tr th {\n",
       "        vertical-align: top;\n",
       "    }\n",
       "\n",
       "    .dataframe thead th {\n",
       "        text-align: right;\n",
       "    }\n",
       "</style>\n",
       "<table border=\"1\" class=\"dataframe\">\n",
       "  <thead>\n",
       "    <tr style=\"text-align: right;\">\n",
       "      <th></th>\n",
       "      <th>text</th>\n",
       "      <th>label</th>\n",
       "    </tr>\n",
       "  </thead>\n",
       "  <tbody>\n",
       "    <tr>\n",
       "      <th>count</th>\n",
       "      <td>873</td>\n",
       "      <td>873</td>\n",
       "    </tr>\n",
       "    <tr>\n",
       "      <th>unique</th>\n",
       "      <td>873</td>\n",
       "      <td>2</td>\n",
       "    </tr>\n",
       "    <tr>\n",
       "      <th>top</th>\n",
       "      <td>For the last quarter of 2010 , Componenta 's n...</td>\n",
       "      <td>positive</td>\n",
       "    </tr>\n",
       "    <tr>\n",
       "      <th>freq</th>\n",
       "      <td>1</td>\n",
       "      <td>570</td>\n",
       "    </tr>\n",
       "  </tbody>\n",
       "</table>\n",
       "</div>"
      ],
      "text/plain": [
       "                                                     text     label\n",
       "count                                                 873       873\n",
       "unique                                                873         2\n",
       "top     For the last quarter of 2010 , Componenta 's n...  positive\n",
       "freq                                                    1       570"
      ]
     },
     "execution_count": 30,
     "metadata": {},
     "output_type": "execute_result"
    }
   ],
   "source": [
    "df.describe()"
   ]
  },
  {
   "cell_type": "code",
   "execution_count": 31,
   "id": "d97682dd",
   "metadata": {},
   "outputs": [],
   "source": [
    "label_map = {\n",
    "    \"positive\": 1,\n",
    "    \"negative\": -1\n",
    "}\n",
    "\n",
    "df[\"label\"] = df[\"label\"].map(label_map)"
   ]
  },
  {
   "cell_type": "code",
   "execution_count": 32,
   "id": "af8fdc01",
   "metadata": {},
   "outputs": [],
   "source": [
    "df = df.sample(frac=1, random_state=42).reset_index(drop=True)\n"
   ]
  },
  {
   "cell_type": "code",
   "execution_count": 33,
   "id": "03fb7888",
   "metadata": {},
   "outputs": [
    {
     "data": {
      "text/html": [
       "<div>\n",
       "<style scoped>\n",
       "    .dataframe tbody tr th:only-of-type {\n",
       "        vertical-align: middle;\n",
       "    }\n",
       "\n",
       "    .dataframe tbody tr th {\n",
       "        vertical-align: top;\n",
       "    }\n",
       "\n",
       "    .dataframe thead th {\n",
       "        text-align: right;\n",
       "    }\n",
       "</style>\n",
       "<table border=\"1\" class=\"dataframe\">\n",
       "  <thead>\n",
       "    <tr style=\"text-align: right;\">\n",
       "      <th></th>\n",
       "      <th>text</th>\n",
       "      <th>label</th>\n",
       "    </tr>\n",
       "  </thead>\n",
       "  <tbody>\n",
       "    <tr>\n",
       "      <th>0</th>\n",
       "      <td>Finnish electronics contract manufacturer Scan...</td>\n",
       "      <td>-1</td>\n",
       "    </tr>\n",
       "    <tr>\n",
       "      <th>1</th>\n",
       "      <td>ADPnews - Jul 17 , 2009 - Finland-based steel ...</td>\n",
       "      <td>-1</td>\n",
       "    </tr>\n",
       "    <tr>\n",
       "      <th>2</th>\n",
       "      <td>According to Nordic financial group Nordea 's ...</td>\n",
       "      <td>1</td>\n",
       "    </tr>\n",
       "    <tr>\n",
       "      <th>3</th>\n",
       "      <td>Cargo traffic fell 1 % year-on-year to 8,561 t...</td>\n",
       "      <td>-1</td>\n",
       "    </tr>\n",
       "    <tr>\n",
       "      <th>4</th>\n",
       "      <td>However , sales volumes in the food industry a...</td>\n",
       "      <td>1</td>\n",
       "    </tr>\n",
       "  </tbody>\n",
       "</table>\n",
       "</div>"
      ],
      "text/plain": [
       "                                                text  label\n",
       "0  Finnish electronics contract manufacturer Scan...     -1\n",
       "1  ADPnews - Jul 17 , 2009 - Finland-based steel ...     -1\n",
       "2  According to Nordic financial group Nordea 's ...      1\n",
       "3  Cargo traffic fell 1 % year-on-year to 8,561 t...     -1\n",
       "4  However , sales volumes in the food industry a...      1"
      ]
     },
     "execution_count": 33,
     "metadata": {},
     "output_type": "execute_result"
    }
   ],
   "source": [
    "df.head()"
   ]
  },
  {
   "cell_type": "code",
   "execution_count": 34,
   "id": "9feceb08",
   "metadata": {},
   "outputs": [
    {
     "data": {
      "text/plain": [
       "303"
      ]
     },
     "execution_count": 34,
     "metadata": {},
     "output_type": "execute_result"
    }
   ],
   "source": [
    "len(df[df['label']==-1])"
   ]
  },
  {
   "cell_type": "code",
   "execution_count": 35,
   "id": "9b1790c0",
   "metadata": {},
   "outputs": [
    {
     "data": {
      "text/plain": [
       "570"
      ]
     },
     "execution_count": 35,
     "metadata": {},
     "output_type": "execute_result"
    }
   ],
   "source": [
    "len(df[df['label']==1])"
   ]
  },
  {
   "cell_type": "code",
   "execution_count": 36,
   "id": "a8bc61f0",
   "metadata": {},
   "outputs": [],
   "source": [
    "pipeline = Pipeline([\n",
    "    (\"tfidf\", TfidfVectorizer(\n",
    "        ngram_range=(1,2),\n",
    "        lowercase=True,\n",
    "        min_df=2,\n",
    "        max_df=0.95,\n",
    "        strip_accents='unicode',\n",
    "        stop_words='english'\n",
    "    )),\n",
    "    (\"clf\", LogisticRegression(max_iter=1000))\n",
    "])\n",
    "X = df[\"text\"]\n",
    "y = df[\"label\"]\n",
    "X_train, X_test, y_train, y_test = train_test_split(X, y, stratify=y, test_size=0.2, random_state=42)\n",
    "pipeline.fit(X_train, y_train)\n",
    "\n",
    "pred = pipeline.predict(X_test)\n",
    "proba = pipeline.predict_proba(X_test)"
   ]
  },
  {
   "cell_type": "code",
   "execution_count": 45,
   "id": "e750bf5b",
   "metadata": {},
   "outputs": [
    {
     "data": {
      "text/plain": [
       "array([0.52235672, 0.80581804, 0.72706198, 0.49921568, 0.6504162 ,\n",
       "       0.58821581, 0.3613676 , 0.72248497, 0.79787111, 0.71693346,\n",
       "       0.50754638, 0.75489521, 0.46147325, 0.56964017, 0.88498381,\n",
       "       0.74130176, 0.47098289, 0.75620654, 0.74951596, 0.69938843,\n",
       "       0.56303115, 0.75608286, 0.71913927, 0.79809172, 0.75861416,\n",
       "       0.44958136, 0.76984495, 0.60941735, 0.33814643, 0.66421934,\n",
       "       0.77507208, 0.61931477, 0.59164228, 0.81915085, 0.44830874,\n",
       "       0.72041369, 0.762456  , 0.74667633, 0.73505791, 0.76641836,\n",
       "       0.41613117, 0.71152724, 0.54342916, 0.80910606, 0.49232653,\n",
       "       0.65182828, 0.7289291 , 0.45792176, 0.75872348, 0.35956002,\n",
       "       0.62535016, 0.69352969, 0.81395203, 0.76987665, 0.77055999,\n",
       "       0.61982391, 0.43844889, 0.5753601 , 0.66815344, 0.38591079,\n",
       "       0.67685559, 0.77857238, 0.80623462, 0.59612644, 0.76312047,\n",
       "       0.85959389, 0.65793714, 0.74249116, 0.8344386 , 0.66387162,\n",
       "       0.55115659, 0.72883351, 0.49286319, 0.49498941, 0.80182393,\n",
       "       0.70940515, 0.86707295, 0.65923025, 0.78529353, 0.64567833,\n",
       "       0.68794304, 0.61544163, 0.70534495, 0.62450589, 0.2890121 ,\n",
       "       0.73131715, 0.46667966, 0.38508802, 0.40118089, 0.7751563 ,\n",
       "       0.7236423 , 0.59051063, 0.42477044, 0.65831969, 0.706985  ,\n",
       "       0.37915919, 0.56600876, 0.42958505, 0.74488475, 0.58998827,\n",
       "       0.59065716, 0.48999013, 0.69258611, 0.67338868, 0.65831345,\n",
       "       0.60310774, 0.68116298, 0.53131443, 0.37609025, 0.62490644,\n",
       "       0.75768906, 0.83919261, 0.67362452, 0.68454492, 0.72458255,\n",
       "       0.77223473, 0.69285552, 0.77649352, 0.74360926, 0.66473129,\n",
       "       0.85775263, 0.34641949, 0.71580124, 0.7023012 , 0.78326363,\n",
       "       0.66385427, 0.76808585, 0.59905808, 0.79386743, 0.53747567,\n",
       "       0.56033696, 0.73404834, 0.80291552, 0.63764985, 0.63952556,\n",
       "       0.48796954, 0.64653636, 0.48274688, 0.57186988, 0.45907217,\n",
       "       0.73196138, 0.57614162, 0.73200178, 0.67318788, 0.67611508,\n",
       "       0.81883725, 0.71632819, 0.80238881, 0.70140212, 0.72167651,\n",
       "       0.62147835, 0.34641146, 0.66663286, 0.66326543, 0.78284056,\n",
       "       0.80480739, 0.71580789, 0.76827816, 0.56928241, 0.80595444,\n",
       "       0.65421776, 0.55394123, 0.70294838, 0.72688962, 0.7119755 ,\n",
       "       0.60706594, 0.54095518, 0.48367454, 0.79176103, 0.56594255,\n",
       "       0.67355964, 0.78250393, 0.7103501 , 0.48639159, 0.55419612])"
      ]
     },
     "execution_count": 45,
     "metadata": {},
     "output_type": "execute_result"
    }
   ],
   "source": [
    "proba_pos = pipeline.predict_proba(X_test)[:, 1]\n",
    "proba_pos"
   ]
  },
  {
   "cell_type": "code",
   "execution_count": 37,
   "id": "9b317ad8",
   "metadata": {},
   "outputs": [
    {
     "name": "stdout",
     "output_type": "stream",
     "text": [
      "Accuracy: 0.7828571428571428\n"
     ]
    }
   ],
   "source": [
    "from sklearn.metrics import accuracy_score\n",
    "print(\"Accuracy:\", accuracy_score(y_test, pred))"
   ]
  },
  {
   "cell_type": "code",
   "execution_count": 38,
   "id": "be37f67b",
   "metadata": {},
   "outputs": [
    {
     "name": "stdout",
     "output_type": "stream",
     "text": [
      "Precision: 0.7638888888888888\n",
      "Recall: 0.9649122807017544\n",
      "F1: 0.8527131782945736\n"
     ]
    }
   ],
   "source": [
    "from sklearn.metrics import precision_score, recall_score, f1_score\n",
    "print(\"Precision:\", precision_score(y_test, pred))\n",
    "print(\"Recall:\", recall_score(y_test, pred))\n",
    "print(\"F1:\", f1_score(y_test, pred))\n"
   ]
  },
  {
   "cell_type": "code",
   "execution_count": 39,
   "id": "dbd0b8e4",
   "metadata": {},
   "outputs": [
    {
     "name": "stdout",
     "output_type": "stream",
     "text": [
      "              precision    recall  f1-score   support\n",
      "\n",
      "          -1       0.87      0.44      0.59        61\n",
      "           1       0.76      0.96      0.85       114\n",
      "\n",
      "    accuracy                           0.78       175\n",
      "   macro avg       0.82      0.70      0.72       175\n",
      "weighted avg       0.80      0.78      0.76       175\n",
      "\n"
     ]
    }
   ],
   "source": [
    "from sklearn.metrics import classification_report\n",
    "print(classification_report(y_test, pred))\n"
   ]
  },
  {
   "cell_type": "code",
   "execution_count": 40,
   "id": "e2be34e2",
   "metadata": {},
   "outputs": [
    {
     "data": {
      "image/png": "[encoded data removed]",
      "text/plain": [
       "<Figure size 640x480 with 2 Axes>"
      ]
     },
     "metadata": {},
     "output_type": "display_data"
    }
   ],
   "source": [
    "from sklearn.metrics import confusion_matrix\n",
    "import seaborn as sns\n",
    "import matplotlib.pyplot as plt\n",
    "\n",
    "cm = confusion_matrix(y_test, pred)\n",
    "sns.heatmap(cm, annot=True, fmt=\"d\", cmap=\"Blues\",\n",
    "            xticklabels=[\"Negative\", \"Positive\"],\n",
    "            yticklabels=[\"Negative\", \"Positive\"])\n",
    "plt.xlabel(\"Predicted\")\n",
    "plt.ylabel(\"True\")\n",
    "plt.show()\n"
   ]
  },
  {
   "cell_type": "code",
   "execution_count": 41,
   "id": "06b1ef8d",
   "metadata": {},
   "outputs": [
    {
     "data": {
      "text/plain": [
       "(175,)"
      ]
     },
     "execution_count": 41,
     "metadata": {},
     "output_type": "execute_result"
    }
   ],
   "source": [
    "pred.shape"
   ]
  },
  {
   "cell_type": "code",
   "execution_count": 46,
   "id": "86a199e3",
   "metadata": {},
   "outputs": [
    {
     "data": {
      "image/png": "[encoded data removed]",
      "text/plain": [
       "<Figure size 600x600 with 1 Axes>"
      ]
     },
     "metadata": {},
     "output_type": "display_data"
    }
   ],
   "source": [
    "from sklearn.metrics import roc_auc_score, roc_curve\n",
    "fpr, tpr, thresholds = roc_curve(y_test, proba_pos)\n",
    "auc = roc_auc_score(y_test, proba_pos)\n",
    "plt.figure(figsize=(6,6))\n",
    "plt.plot(fpr, tpr, label=f\"ROC curve (AUC= {auc:.2f})\")\n",
    "plt.plot([0, 1], [0,1], linestyle=\"--\", color=\"gray\")\n",
    "plt.xlabel(\"FP Rate\")\n",
    "plt.ylabel(\"TP Rate\")\n",
    "plt.title(\"ROC Curve\")\n",
    "plt.legend(loc=\"lower right\")\n",
    "plt.grid(True)\n",
    "plt.show()"
   ]
  },
  {
   "cell_type": "code",
   "execution_count": null,
   "id": "840c64eb",
   "metadata": {},
   "outputs": [
    {
     "name": "stdout",
     "output_type": "stream",
     "text": [
      "1 0.657797005536902\n"
     ]
    }
   ],
   "source": [
    "text = \"Apple shares jump after strong earnings beat.\"\n",
    "pred = pipeline.predict([text])[0]              # -> 0/1 label\n",
    "proba = pipeline.predict_proba([text])[0][1]    # -> P(positive) if 1 is positive\n",
    "print(pred, proba)\n"
   ]
  },
  {
   "cell_type": "code",
   "execution_count": null,
   "id": "047e48a3",
   "metadata": {},
   "outputs": [],
   "source": [
    "def trace_pipeline(pipeline, text, top_k=10):\n",
    "    tfidf = pipeline.named_steps[\"tfidf\"]\n",
    "    clf   = pipeline.named_steps[\"clf\"]\n",
    "\n",
    "    an = tfidf.build_analyzer()\n",
    "    print(\"TOKENS:\", an(text)[:50])\n",
    "\n",
    "    X = tfidf.transform([text])\n",
    "    feature_names = tfidf.get_feature_names_out()\n",
    "    w = clf.coef_[0]; b = clf.intercept_[0]\n",
    "\n",
    "    # tf-idf values\n",
    "    row = X.tocoo()\n",
    "    print(\"\\nNON-ZERO TF-IDF FEATURES:\")\n",
    "    for _, j, v in zip(row.row, row.col, row.data):\n",
    "        print(f\"{feature_names[j]:<30} tfidf={v:.4f}\")\n",
    "\n",
    "    # score & probability\n",
    "    import numpy as np\n",
    "    z = X.multiply(w).sum() + b\n",
    "    p = 1 / (1 + np.exp(-z))\n",
    "    print(f\"\\nLOGREG: z={z:.4f}, p(positive)={p:.4f}\")\n",
    "\n",
    "    # contributions\n",
    "    contrib = X.multiply(w).toarray()[0]\n",
    "    nz = np.nonzero(contrib)[0]\n",
    "    top_idx = nz[np.argsort(np.abs(contrib[nz]))[::-1][:top_k]]\n",
    "    print(\"\\nTOP CONTRIBUTIONS (signed):\")\n",
    "    for j in top_idx:\n",
    "        sign = \"+\" if contrib[j] >= 0 else \"\"\n",
    "        print(f\"{feature_names[j]:<30} {sign}{contrib[j]:.4f}\")\n"
   ]
  },
  {
   "cell_type": "code",
   "execution_count": null,
   "id": "08337644",
   "metadata": {},
   "outputs": [
    {
     "name": "stdout",
     "output_type": "stream",
     "text": [
      "TOKENS: ['iren', 'iren', 'surges', 'transition', 'ai', 'service', 'iren iren', 'iren surges', 'surges transition', 'transition ai', 'ai service']\n",
      "\n",
      "NON-ZERO TF-IDF FEATURES:\n",
      "service                        tfidf=1.0000\n",
      "\n",
      "LOGREG: z=0.9714, p(positive)=0.7254\n",
      "\n",
      "TOP CONTRIBUTIONS (signed):\n",
      "service                        +0.1725\n"
     ]
    }
   ],
   "source": [
    "trace_pipeline(pipeline, \"IREN (IREN) Surges on Transition to AI Service\")\n"
   ]
  },
  {
   "cell_type": "code",
   "execution_count": null,
   "id": "9fd2796d",
   "metadata": {},
   "outputs": [
    {
     "name": "stdout",
     "output_type": "stream",
     "text": [
      "<Compressed Sparse Row sparse matrix of dtype 'float64'\n",
      "\twith 21 stored elements and shape (4, 9)>\n",
      "  Coords\tValues\n",
      "  (0, 8)\t0.38408524091481494\n",
      "  (0, 3)\t0.38408524091481494\n",
      "  (0, 6)\t0.38408524091481494\n",
      "  (0, 2)\t0.580285823684436\n",
      "  (0, 1)\t0.4697913855799205\n",
      "  (1, 8)\t0.281088674033753\n",
      "  (1, 3)\t0.281088674033753\n",
      "  (1, 6)\t0.281088674033753\n",
      "  (1, 1)\t0.6876235979836938\n",
      "  (1, 5)\t0.5386476208856763\n",
      "  (2, 8)\t0.267103787642168\n",
      "  (2, 3)\t0.267103787642168\n",
      "  (2, 6)\t0.267103787642168\n",
      "  (2, 0)\t0.511848512707169\n",
      "  (2, 7)\t0.511848512707169\n",
      "  (2, 4)\t0.511848512707169\n",
      "  (3, 8)\t0.38408524091481494\n",
      "  (3, 3)\t0.38408524091481494\n",
      "  (3, 6)\t0.38408524091481494\n",
      "  (3, 2)\t0.580285823684436\n",
      "  (3, 1)\t0.4697913855799205\n"
     ]
    }
   ],
   "source": [
    "corpus = [\n",
    "\n",
    "    'This is the first document.',\n",
    "\n",
    "    'This document is the second document.',\n",
    "\n",
    "    'And this is the third one.',\n",
    "\n",
    "    'Is this the first document?',\n",
    "\n",
    "]\n",
    "vectorizer = TfidfVectorizer()\n",
    "X = vectorizer.fit_transform(corpus)"
   ]
  },
  {
   "cell_type": "code",
   "execution_count": null,
   "id": "dbbc4e3c",
   "metadata": {},
   "outputs": [],
   "source": []
  }
 ],
 "metadata": {
  "kernelspec": {
   "display_name": "sentiments-stocks",
   "language": "python",
   "name": "python3"
  },
  "language_info": {
   "codemirror_mode": {
    "name": "ipython",
    "version": 3
   },
   "file_extension": ".py",
   "mimetype": "text/x-python",
   "name": "python",
   "nbconvert_exporter": "python",
   "pygments_lexer": "ipython3",
   "version": "3.11.13"
  }
 },
 "nbformat": 4,
 "nbformat_minor": 5
}
